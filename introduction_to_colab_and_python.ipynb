{
  "nbformat": 4,
  "nbformat_minor": 0,
  "metadata": {
    "colab": {
      "name": "introduction to colab and python",
      "provenance": [],
      "collapsed_sections": [],
      "authorship_tag": "ABX9TyPmBbNFEnce3J3AjmYZHSSm",
      "include_colab_link": true
    },
    "kernelspec": {
      "name": "python3",
      "display_name": "Python 3"
    },
    "language_info": {
      "name": "python"
    },
    "accelerator": "GPU"
  },
  "cells": [
    {
      "cell_type": "markdown",
      "metadata": {
        "id": "view-in-github",
        "colab_type": "text"
      },
      "source": [
        "<a href=\"https://colab.research.google.com/github/Ashikur-ai/Learn-Tensorflow/blob/main/introduction_to_colab_and_python.ipynb\" target=\"_parent\"><img src=\"https://colab.research.google.com/assets/colab-badge.svg\" alt=\"Open In Colab\"/></a>"
      ]
    },
    {
      "cell_type": "markdown",
      "source": [
        "Welcome to this colab where you will get a quick introduction to the Python programming language and the environment used for the course's exercises: Colab.\n",
        "Colab is a Python development environment that runs in the browser using Google Cloud. For example, to print \"Hello World\", just hover the mouse over [] and press the play button to the upper left. Or press shift-enter to execute."
      ],
      "metadata": {
        "id": "g8xg3eXBqxip"
      }
    },
    {
      "cell_type": "code",
      "source": [
        "print(\"hello world\")"
      ],
      "metadata": {
        "colab": {
          "base_uri": "https://localhost:8080/"
        },
        "id": "dMYj5S5IsSt4",
        "outputId": "9a85d3f7-c62a-434b-c6e4-c5ae6f76d84f"
      },
      "execution_count": null,
      "outputs": [
        {
          "output_type": "stream",
          "name": "stdout",
          "text": [
            "hello world\n"
          ]
        }
      ]
    },
    {
      "cell_type": "markdown",
      "source": [
        "#Function, Conditionals, and Iteration\n",
        "Let's create a Python function, and call it from a loop"
      ],
      "metadata": {
        "id": "91X4jk3wtfEo"
      }
    },
    {
      "cell_type": "code",
      "source": [
        ""
      ],
      "metadata": {
        "id": "L6KClFUQtouE"
      },
      "execution_count": null,
      "outputs": []
    }
  ]
}