{
  "nbformat": 4,
  "nbformat_minor": 0,
  "metadata": {
    "colab": {
      "name": "2.Celsius_to_fahrenheit",
      "provenance": [],
      "authorship_tag": "ABX9TyNdKKL9Z2McPMkbqMQABNs1",
      "include_colab_link": true
    },
    "kernelspec": {
      "name": "python3",
      "display_name": "Python 3"
    },
    "language_info": {
      "name": "python"
    }
  },
  "cells": [
    {
      "cell_type": "markdown",
      "metadata": {
        "id": "view-in-github",
        "colab_type": "text"
      },
      "source": [
        "<a href=\"https://colab.research.google.com/github/Ashikur-ai/Learn-Tensorflow/blob/main/2_Celsius_to_fahrenheit.ipynb\" target=\"_parent\"><img src=\"https://colab.research.google.com/assets/colab-badge.svg\" alt=\"Open In Colab\"/></a>"
      ]
    },
    {
      "cell_type": "markdown",
      "source": [
        "#The Basics: Training Your First Model\n",
        "Welcome to this Colab where you will train your first Machine learning model!\n",
        "\n",
        "We'll try to keep things simple here, and only introduce basic concepts. Later Colabs will cover more advanced problems. \n",
        "\n",
        "The problem we will solve is to convert from Celsius to Fahrenheit, where the approximate formula is:\n",
        "\n",
        "#f = c X 1.8 + 32\n",
        "\n",
        "Of course, it would be simple enough to create a conventional Python function that directly performs this calculation, but that wouldn't be machine learning.\n",
        "\n",
        "Instead, we will give TensorFlow some sample Celsius values(0,8,15,22,38) and their corresponding fahrenheit values(32,46,59,72,100). Then, we will train a model that figures out the above formula through the training process.\n",
        "\n",
        "#Import dependencies\n",
        "First, import Tensorflow. Here, we're calling it tf for ease of use. We also tell it to only display errors.\n",
        "\n",
        "Next, import Numpy as np. Numpy helps us to represent our data as highly performant lists."
      ],
      "metadata": {
        "id": "HjnNZXrSYbpS"
      }
    },
    {
      "cell_type": "code",
      "execution_count": 2,
      "metadata": {
        "id": "q5cnYkbJYJJ7"
      },
      "outputs": [],
      "source": [
        "import tensorflow as tf"
      ]
    },
    {
      "cell_type": "code",
      "source": [
        "import numpy as np\n",
        "import logging\n",
        "logger = tf.get_logger()\n",
        "logger.setLevel(logging.ERROR)"
      ],
      "metadata": {
        "id": "ayHZFdo9bPiY"
      },
      "execution_count": 3,
      "outputs": []
    },
    {
      "cell_type": "markdown",
      "source": [
        "#Set up training data\n",
        "As we saw before, supervised machine Learning is all about figuring out an algorithm given a set of inputs and outputs. Since the task in this Colab is to create a model that can give the temperature in fahrenheit when given the degrees in Celsius, we create two lists celsius_q and fahrenheit_a that we can use to train our model."
      ],
      "metadata": {
        "id": "K5NaSU7PbdhA"
      }
    },
    {
      "cell_type": "code",
      "source": [
        "celsius_q = np.array([-40, -10, 0, 8, 15, 22, 38], dtype=float)\n",
        "fahrenheit_a = np.array([-40, 14, 32, 46, 59, 72, 100], dtype=float)\n",
        "\n",
        "for i,c in enumerate(celsius_q):\n",
        "  print(\"{} degrees Celsius = {} degrees Fahrenheit\".format(c, fahrenheit_a[i] ))"
      ],
      "metadata": {
        "colab": {
          "base_uri": "https://localhost:8080/"
        },
        "id": "znLEDODAbYGn",
        "outputId": "97b71ad3-3f7f-47fa-c889-7144969c774f"
      },
      "execution_count": 4,
      "outputs": [
        {
          "output_type": "stream",
          "name": "stdout",
          "text": [
            "-40.0 degrees Celsius = -40.0 degrees Fahrenheit\n",
            "-10.0 degrees Celsius = 14.0 degrees Fahrenheit\n",
            "0.0 degrees Celsius = 32.0 degrees Fahrenheit\n",
            "8.0 degrees Celsius = 46.0 degrees Fahrenheit\n",
            "15.0 degrees Celsius = 59.0 degrees Fahrenheit\n",
            "22.0 degrees Celsius = 72.0 degrees Fahrenheit\n",
            "38.0 degrees Celsius = 100.0 degrees Fahrenheit\n"
          ]
        }
      ]
    },
    {
      "cell_type": "markdown",
      "source": [
        "#Some Machine Learning terminology\n",
        "Feature - The input(s) to our model. In this case, a single value-the degrees in Celsius.\n",
        "\n",
        "Labels - The output our model predicts. In this case, a single value-the degrees in Fahrenheit.\n",
        "\n",
        "Example-A pair of inputs/outputs used during training. In our case a pair of values from celsius_q and fahrenheit_a at specific index, such as (22, 72).\n",
        "\n",
        "#Create the model\n",
        "Next, create the model. We will use the simplest possible model we can, a Dense network. Since the problem is straightforward, this network will require only a single layer, with a single neuron. \n",
        "\n",
        "#Build a layer\n",
        "We'll call the layer l0 and create it by instantiating tf.keras.layers.Dense with the following configuration:\n",
        "\n",
        "input_shape=[1] - This is specifies that the input to this layer is a single value. That is, the shape is a one-dimensional array with one member. Since this is the first (and only) layer, that input shape is the input shape of the entire model. The single value s a floating point nmber, representing degrees Celsius.\n",
        "\n",
        "units=1 - This specifies the number of neurons in the layer. The number of neurons defines how many internal variables the layer has to try to learn how to solve the problem(more later). Since this is the final layer, it is also the size of the model's output-asingle float value representing degrees Fahrenheit.(In a multi-layered network, the size and shape of the layer would need to match the input_shape of the next layer.) "
      ],
      "metadata": {
        "id": "FjVosq-KckVI"
      }
    },
    {
      "cell_type": "code",
      "source": [
        "l0 = tf.keras.layers.Dense(units=1, input_shape=[1])"
      ],
      "metadata": {
        "id": "88zFXChRchwg"
      },
      "execution_count": 5,
      "outputs": []
    },
    {
      "cell_type": "markdown",
      "source": [
        "#Assemble layers into the model\n",
        "Once layers are defined, they need to be assembled into a model. The Sequential model definition takes a list of layers as an argument, specifying the calculation order from the input to the output.\n",
        "\n",
        "This model has just a single layer, l0."
      ],
      "metadata": {
        "id": "vDs3i82s74KY"
      }
    },
    {
      "cell_type": "code",
      "source": [
        "model = tf.keras.Sequential([l0])"
      ],
      "metadata": {
        "id": "q7CfT5PxfLdt"
      },
      "execution_count": 6,
      "outputs": []
    },
    {
      "cell_type": "markdown",
      "source": [
        "#Note\n",
        "You will often see the layers defined inside the model definition, rather than beforehand:"
      ],
      "metadata": {
        "id": "hkRvb5NS8ccc"
      }
    },
    {
      "cell_type": "code",
      "source": [
        "model = tf.keras.Sequential([\n",
        "                             tf.keras.layers.Dense(units=1, input_shape=[1])\n",
        "])"
      ],
      "metadata": {
        "id": "kDNleVAF8UJF"
      },
      "execution_count": 7,
      "outputs": []
    },
    {
      "cell_type": "markdown",
      "source": [
        "#Compile the model, with loss and optimizer functions\n",
        "Before training, the model has to be compiled. When compiled for training, the model is given:\n",
        "Loss Function - A way of measuring how far off predictions are from the desired outcome.(The measured difference is called the \"loss\".)\n",
        "\n",
        "Optimizer function - A way of adjusting internal values in order to reduce the loss."
      ],
      "metadata": {
        "id": "-Kps7Nmc8vMT"
      }
    },
    {
      "cell_type": "code",
      "source": [
        "model.compile(loss='mean_squared_error', \n",
        "              optimizer=tf.keras.optimizers.Adam(0.1))"
      ],
      "metadata": {
        "id": "w8vA_vdE8thy"
      },
      "execution_count": 8,
      "outputs": []
    },
    {
      "cell_type": "markdown",
      "source": [
        "These are used during training (model.fit(), below) to first calculate the loss at each point, and then improve it. In fact, the act of calculating the current loss of a model and then improving it is precisely what training is.\n",
        "\n",
        "During training, the optimizer function is used to calculate adjustments to the model's internal variables. The goal is to adjust the internal variables until the model(which is really a math function) mirrors the actual equation for converting Celsius to Fahrenheit.\n",
        "\n",
        "TensorFlow uses numerical analysis to perform this tuing, and all this complexdity is hidden from you so we will not go into the details here. What is useful to know about these parameters are:\n",
        "\n",
        "The loss function(mean squared error) and the optimizer(Adam) used here are standard for simple models like this one, but many others are available. It is not important to know how these specific functions work at this point.\n",
        "\n",
        "One part of the Optimizer you may need to think about when building your own models is the learning rate(0.1 in the code above). This is the step size taken when adjusting values in the model. If the value is too small, it will take to many iterations to train the model. Too large, and accuracy goes down. Finding a good value often involves some trial and error, but the range is usually within 0.001(default) and 0.1\n",
        "\n",
        "#Train the model\n",
        "Train the model by calling the fit method.\n",
        "\n",
        "During training, the model takes in Celsius values, performs a calculation using the current internal variables(called \"weights\") and outputs values whhich are meant to be the Fahrenheit equivalent. Since the weights are initially set randomly, the output will not be close to the correct value. The difference between the actual output and the desired output is calculated using the loss function, and the optimizer function directs how the weights should be adjusted.\n",
        "\n",
        "This cycle of calculate, compare, adjust is controlled by the fit method. The first argument is the inputs, the second argument is the desired outputs. The epochs argument specifies how many times this cycle should be run, and the verbose argument controls how much output the method produces."
      ],
      "metadata": {
        "id": "09fazMft9bi_"
      }
    },
    {
      "cell_type": "code",
      "source": [
        "history = model.fit(celsius_q, fahrenheit_a, epochs=500, verbose=False)\n",
        "print(\"Finished training the model\")"
      ],
      "metadata": {
        "colab": {
          "base_uri": "https://localhost:8080/"
        },
        "id": "rrEQ7Dan9aRD",
        "outputId": "3b334304-807c-4c4f-9f91-fe612c9374fa"
      },
      "execution_count": 9,
      "outputs": [
        {
          "output_type": "stream",
          "name": "stdout",
          "text": [
            "Finished training the model\n"
          ]
        }
      ]
    },
    {
      "cell_type": "markdown",
      "source": [
        "In later, we will go into more detail on what actually happens here and how a Dense layer actually works internally."
      ],
      "metadata": {
        "id": "j11vdQz8_6H3"
      }
    },
    {
      "cell_type": "markdown",
      "source": [
        "#Display training statistics\n",
        "The fit method returns a history object. We can use this object to plot how the loss of our model goes down after each training epoch. A high loss means that the Fahrenheit degrees the model predicts is far from the corresponding value in fahrenheit_a.\n",
        "\n",
        "We'll use matplotlib to visualize this. As you can see, our model improves very quickly at first, and then has a steady, slow improvement until it is very near \"perfect\"towards the end."
      ],
      "metadata": {
        "id": "1nrgsrI_AFRO"
      }
    },
    {
      "cell_type": "code",
      "source": [
        "import matplotlib.pyplot as plt\n",
        "plt.xlabel('Epoch Number')\n",
        "plt.ylabel('Loss Magnitude')\n",
        "plt.plot(history.history['loss'])"
      ],
      "metadata": {
        "colab": {
          "base_uri": "https://localhost:8080/",
          "height": 297
        },
        "id": "qC8hV5-O_36F",
        "outputId": "32fbc859-72a5-4852-8acf-f598291c14e3"
      },
      "execution_count": 10,
      "outputs": [
        {
          "output_type": "execute_result",
          "data": {
            "text/plain": [
              "[<matplotlib.lines.Line2D at 0x7f94ebf3f9d0>]"
            ]
          },
          "metadata": {},
          "execution_count": 10
        },
        {
          "output_type": "display_data",
          "data": {
            "text/plain": [
              "<Figure size 432x288 with 1 Axes>"
            ],
            "image/png": "[encoded data removed]"
          },
          "metadata": {
            "needs_background": "light"
          }
        }
      ]
    },
    {
      "cell_type": "markdown",
      "source": [
        "#Use the model to predict values.\n",
        "Now you have a model that has been trained to learn the relationship between celsius_q and fahrenheit_a. You can use the predict method to have it calculate the Fahrenheit degrees for a previously unknown Celsius degrees.\n",
        "\n",
        "So, for example, if the Celsius value is 100, what do you think the Fahrenheit result will be? Take a guess before you run this code."
      ],
      "metadata": {
        "id": "6vBss_QCA6NZ"
      }
    },
    {
      "cell_type": "code",
      "source": [
        "print(model.predict([100.0]))"
      ],
      "metadata": {
        "colab": {
          "base_uri": "https://localhost:8080/"
        },
        "id": "RQE0YRm4A3uu",
        "outputId": "481007e5-7b9d-44e7-fea7-d887a84434c1"
      },
      "execution_count": 11,
      "outputs": [
        {
          "output_type": "stream",
          "name": "stdout",
          "text": [
            "[[211.31206]]\n"
          ]
        }
      ]
    },
    {
      "cell_type": "markdown",
      "source": [
        "The correct answer is 100 X 1.8 + 32 = 212, so our model is doing really well.\n",
        "\n",
        "#To review\n",
        "We created a model with a Dense layer\n",
        "We trained it with 3500 examples(7 pairs, over 500 epochs).\n",
        "\n",
        "Our model tuned the variables(weights) in the Dense layer until it was able to return the correct Fahrenheit value for any Celsius value.(Remember, 100 Celsius was not part of our training data.)\n",
        "\n",
        "#Looking at the layer weights\n",
        "Finally let's print the internal variables of the Dense layer."
      ],
      "metadata": {
        "id": "BIv_Lo9_Bcbm"
      }
    },
    {
      "cell_type": "code",
      "source": [
        "print(\"These are the layer variables: {}\".format(l0.get_weights()))"
      ],
      "metadata": {
        "colab": {
          "base_uri": "https://localhost:8080/"
        },
        "id": "NoBC4NqEBadO",
        "outputId": "9637c7cc-3c2c-4c76-96c9-09cfec41e0db"
      },
      "execution_count": 14,
      "outputs": [
        {
          "output_type": "stream",
          "name": "stdout",
          "text": [
            "These are the layer variables: [array([[-0.2166022]], dtype=float32), array([0.], dtype=float32)]\n"
          ]
        }
      ]
    },
    {
      "cell_type": "markdown",
      "source": [
        "The first variable is close to 1.8 and the second to 32. These values (1.8 and 32) are the actual variables in the real convesion formula.\n",
        "\n",
        "This is really close to the values in the conversion formula. We'll explain this in an upcoming video where we show how a Dense layer works, but for a single neuron with a single input and a single output, the internal math looks the same as the equation for a line,k y = mx + b, which has the same form as the conversion equation, f = 1.8c + 32.\n",
        "\n",
        "Since the form is the same, the variables should converge on the standard values of 1.8 and 32, which is exactly what happened.\n",
        "\n",
        "With additional neurons, additional inputs, and additional outputs, the formula becomes much more complex, but the idea is the same.\n",
        "\n",
        "#A little experiment\n",
        "Just for fun, what if we created more Dense layers with different units, which therfore also has more vriables?"
      ],
      "metadata": {
        "id": "CukhWfCtCMyJ"
      }
    },
    {
      "cell_type": "code",
      "source": [
        "l0 = tf.keras.layers.Dense(units=4, input_shape=[1])\n",
        "l1 = tf.keras.layers.Dense(units=4)\n",
        "l2 = tf.keras.layers.Dense(units=1)\n",
        "model = tf.keras.Sequential([l0, l1, l2])\n",
        "model.compile(loss='mean_squared_error', optimizer=tf.keras.optimizers.Adam(0.1))\n",
        "model.fit(celsius_q, fahrenheit_a, epochs=500, verbose=False)\n",
        "print(\"Finished training the model\")\n",
        "print(model.predict([100.0]))\n",
        "print(\"Model predicts that 100 degrees Celsius is: {} degrees Fahrenheit\".format(model.predict([100.0])))\n",
        "print(\"These are  the l0 variables:{}\".format(l0.get_weights()))\n",
        "print(\"These are the l1 variables:{}\".format(l1.get_weights()))\n",
        "print(\"These are the l2 variables:{}\".format(l2.get_weights()))"
      ],
      "metadata": {
        "colab": {
          "base_uri": "https://localhost:8080/"
        },
        "id": "b4pDshq9CKNR",
        "outputId": "77e96643-8b78-453e-bf66-90b3c64ef162"
      },
      "execution_count": 15,
      "outputs": [
        {
          "output_type": "stream",
          "name": "stdout",
          "text": [
            "Finished training the model\n",
            "[[211.74744]]\n",
            "Model predicts that 100 degrees Celsius is: [[211.74744]] degrees Fahrenheit\n",
            "These are  the l0 variables:[array([[ 0.11941446, -0.3166356 , -0.4622355 ,  0.19157012]],\n",
            "      dtype=float32), array([ 3.242327 , -3.1633806, -3.3267517,  3.2849271], dtype=float32)]\n",
            "These are the l1 variables:[array([[ 0.2656451 ,  0.09150099, -0.32470343, -0.88107324],\n",
            "       [-0.09726021,  0.30854544, -0.15930045,  1.0005333 ],\n",
            "       [-0.956407  , -0.13751224,  0.00925861,  0.9697901 ],\n",
            "       [ 0.63604665,  0.1888293 ,  0.23823768, -0.41658443]],\n",
            "      dtype=float32), array([ 3.2100265,  2.8434813, -2.593812 , -3.2610338], dtype=float32)]\n",
            "These are the l2 variables:[array([[ 1.0264804 ],\n",
            "       [ 0.46050718],\n",
            "       [-0.18209723],\n",
            "       [-1.219452  ]], dtype=float32), array([3.1956258], dtype=float32)]\n"
          ]
        }
      ]
    },
    {
      "cell_type": "markdown",
      "source": [
        "As you can see, this model is also able to predict the corresponding Fahrenheit value really well. But when you look at the variables(weights) in the l0 and l1 layers, they are nothing even close to 1.8 and 32. The added complexity hides the \"simple\" form of the conversion equation.\n",
        "\n",
        "Stay tuned for the upcoming video on how Dense layers work for the explanation."
      ],
      "metadata": {
        "id": "jfPDB3_fE_YA"
      }
    },
    {
      "cell_type": "code",
      "source": [
        ""
      ],
      "metadata": {
        "id": "JZ2PHVgZE9S-"
      },
      "execution_count": null,
      "outputs": []
    }
  ]
}